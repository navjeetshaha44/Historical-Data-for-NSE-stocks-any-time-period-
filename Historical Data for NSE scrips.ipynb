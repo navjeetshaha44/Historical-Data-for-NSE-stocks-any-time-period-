{
 "cells": [
  {
   "cell_type": "code",
   "execution_count": null,
   "metadata": {},
   "outputs": [],
   "source": [
    "#HISTORICAL DATA FOR NSE SCRIPS\n",
    "#This algorithm works on only Zerodha platforms so you need to have a Zerodha API access \n",
    "\n",
    "import datetime\n",
    "import pandas as pd\n",
    "import numpy as np\n",
    "import time\n",
    "from datetime import timedelta\n",
    "from kiteconnect import KiteConnect\n",
    "from jugaad_trader import Zerodha\n",
    "kite = Zerodha()\n",
    "# Set access token loads the stored session.\n",
    "# Name chosen to keep it compatible with kiteconnect.\n",
    "kite.set_access_token() # loads the session from config folder\n",
    "profile = kite.profile()\n",
    "\n",
    "\n",
    "scrip_name=input('symbol:')\n",
    "\n",
    "#for 1 minute:minute, for 5 minutes :5minute and so on\n",
    "\n",
    "interval=str(input('freqofdata:'))\n",
    "\n",
    "#Please modify the date and time\n",
    "\n",
    "ini_date= datetime.datetime(2018,1,1,9,15)\n",
    "\n",
    "\n",
    "token=kite.ltp('NSE:'+str(scrip_name))['NSE:'+str(scrip_name)]['instrument_token']\n",
    "\n",
    "for i in range(0,5):\n",
    "    end_date=ini_date+timedelta(60*(i+1))\n",
    "    start_date=end_date+timedelta(-60)\n",
    "    hist_data=kite.historical_data(token,start_date,end_date,interval)\n",
    "    df=pd.DataFrame(hist_data)\n",
    "df\n"
   ]
  }
 ],
 "metadata": {
  "kernelspec": {
   "display_name": "Python 3",
   "language": "python",
   "name": "python3"
  },
  "language_info": {
   "codemirror_mode": {
    "name": "ipython",
    "version": 3
   },
   "file_extension": ".py",
   "mimetype": "text/x-python",
   "name": "python",
   "nbconvert_exporter": "python",
   "pygments_lexer": "ipython3",
   "version": "3.7.6"
  }
 },
 "nbformat": 4,
 "nbformat_minor": 4
}
